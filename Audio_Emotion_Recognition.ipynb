{
 "cells": [
  {
   "cell_type": "code",
   "execution_count": null,
   "metadata": {
    "colab": {
     "base_uri": "https://localhost:8080/"
    },
    "executionInfo": {
     "elapsed": 2756635,
     "status": "ok",
     "timestamp": 1750848437063,
     "user": {
      "displayName": "ADITYA PRATAP SINGH 24117006",
      "userId": "01863732675062424038"
     },
     "user_tz": -330
    },
    "id": "rN3incBRh2NU",
    "outputId": "3bdd30b3-d011-4e3c-ef0b-542e298327e9"
   },
   "outputs": [
    {
     "name": "stdout",
     "output_type": "stream",
     "text": [
      "Splitting speech and song datasets...\n",
      "Extracting training features with augmentation...\n",
      "Extracting validation features...\n",
      "Scaling features and saving scaler...\n",
      "✅ PHASE 1 COMPLETE\n",
      "📊 X_train shape: (3844, 173, 275), y_train: (3844, 8)\n",
      "📊 X_val shape: (482, 173, 275), y_val: (482, 8)\n",
      "💾 Scaler + label encoder saved to: /content/drive/MyDrive/EmotionRecognitionAssets\n"
     ]
    }
   ],
   "source": [
    "import os\n",
    "import librosa\n",
    "import numpy as np\n",
    "import soundfile as sf\n",
    "import joblib\n",
    "import random\n",
    "import warnings\n",
    "warnings.filterwarnings('ignore')\n",
    "\n",
    "from sklearn.preprocessing import StandardScaler, LabelEncoder\n",
    "from sklearn.model_selection import train_test_split\n",
    "from tensorflow.keras.utils import to_categorical\n",
    "\n",
    "# ✅ Google Drive paths\n",
    "gdrive_root = \"/content/drive/MyDrive/EmotionRecognitionAssets\"\n",
    "os.makedirs(gdrive_root, exist_ok=True)\n",
    "\n",
    "\n",
    "speech_path = \"/content/drive/MyDrive/SPEECH\"\n",
    "song_path = \"/content/drive/MyDrive/SONGS\"\n",
    "\n",
    "# --------------------------------------------\n",
    "# EMOTION MAP\n",
    "# --------------------------------------------\n",
    "emotion_map = {\n",
    "    '01': 'neutral',\n",
    "    '02': 'calm',\n",
    "    '03': 'happy',\n",
    "    '04': 'sad',\n",
    "    '05': 'angry',\n",
    "    '06': 'fearful',\n",
    "    '07': 'disgust',\n",
    "    '08': 'surprised'\n",
    "}\n",
    "\n",
    "def parse_emotion(filename):\n",
    "    parts = filename.split(\"-\")\n",
    "    return emotion_map.get(parts[2])\n",
    "\n",
    "# --------------------------------------------\n",
    "# FEATURE EXTRACTION\n",
    "# --------------------------------------------\n",
    "def extract_features(file_path, max_len=173):\n",
    "    X, sr = librosa.load(file_path, sr=22050)\n",
    "    mfcc = librosa.feature.mfcc(y=X, sr=sr, n_mfcc=40)\n",
    "    delta = librosa.feature.delta(mfcc)\n",
    "    delta2 = librosa.feature.delta(mfcc, order=2)\n",
    "    chroma = librosa.feature.chroma_stft(y=X, sr=sr)\n",
    "    mel = librosa.feature.melspectrogram(y=X, sr=sr)\n",
    "    contrast = librosa.feature.spectral_contrast(y=X, sr=sr)\n",
    "    tonnetz = librosa.feature.tonnetz(y=librosa.effects.harmonic(X), sr=sr)\n",
    "    rmse = librosa.feature.rms(y=X)\n",
    "    zcr = librosa.feature.zero_crossing_rate(y=X)\n",
    "\n",
    "    features = np.vstack([mfcc, delta, delta2, chroma, mel, contrast, tonnetz, rmse, zcr])\n",
    "\n",
    "    if features.shape[1] < max_len:\n",
    "        pad_width = max_len - features.shape[1]\n",
    "        features = np.pad(features, pad_width=((0, 0), (0, pad_width)), mode='constant')\n",
    "    else:\n",
    "        features = features[:, :max_len]\n",
    "\n",
    "    return features.T\n",
    "\n",
    "# --------------------------------------------\n",
    "# AUGMENTATION\n",
    "def augment_audio(X, sr):\n",
    "    aug_methods = [\n",
    "        lambda x, sr: librosa.effects.pitch_shift(x, sr=sr, n_steps=random.uniform(-2, 2)),\n",
    "        lambda x, sr: librosa.effects.time_stretch(x, rate=random.uniform(0.85, 1.15)),\n",
    "        lambda x, sr: x + 0.005 * np.random.normal(0, 1, len(x)),\n",
    "        lambda x, sr: x * random.uniform(0.8, 1.2)\n",
    "    ]\n",
    "    method = random.choice(aug_methods)\n",
    "    return method(X, sr)\n",
    "\n",
    "\n",
    "# --------------------------------------------\n",
    "# LOAD DATASET WITH OPTIONAL AUGMENTATION\n",
    "# --------------------------------------------\n",
    "def load_dataset(folder_path, file_list, augment=False):\n",
    "    X, y = [], []\n",
    "    for file in file_list:\n",
    "        label = parse_emotion(file)\n",
    "        if label is None: continue\n",
    "        full_path = os.path.join(folder_path, file)\n",
    "\n",
    "        # Original\n",
    "        features = extract_features(full_path)\n",
    "        X.append(features)\n",
    "        y.append(label)\n",
    "\n",
    "        # Augmented\n",
    "        if augment:\n",
    "            audio, sr = librosa.load(full_path, sr=22050)\n",
    "            aug_audio = augment_audio(audio, sr)\n",
    "            sf.write(\"temp_aug.wav\", aug_audio, sr)\n",
    "            features_aug = extract_features(\"temp_aug.wav\")\n",
    "            X.append(features_aug)\n",
    "            y.append(label)\n",
    "            os.remove(\"temp_aug.wav\")\n",
    "    return np.array(X), np.array(y)\n",
    "\n",
    "# --------------------------------------------\n",
    "# SPLIT FILES WITH STRATIFICATION\n",
    "# --------------------------------------------\n",
    "def split_files(folder_path):\n",
    "    files = [f for f in os.listdir(folder_path) if f.endswith(\".wav\")]\n",
    "    labels = [parse_emotion(f) for f in files]\n",
    "    return train_test_split(files, test_size=0.2, stratify=labels, random_state=42)\n",
    "\n",
    "# --------------------------------------------\n",
    "# FINAL PHASE 1 RUN\n",
    "# --------------------------------------------\n",
    "print(\"Splitting speech and song datasets...\")\n",
    "speech_train, speech_val = split_files(speech_path)\n",
    "song_train, song_val = split_files(song_path)\n",
    "\n",
    "print(\"Extracting training features with augmentation...\")\n",
    "X_train_speech, y_train_speech = load_dataset(speech_path, speech_train, augment=True)\n",
    "X_train_song, y_train_song = load_dataset(song_path, song_train, augment=True)\n",
    "\n",
    "print(\"Extracting validation features...\")\n",
    "X_val_speech, y_val_speech = load_dataset(speech_path, speech_val, augment=False)\n",
    "X_val_song, y_val_song = load_dataset(song_path, song_val, augment=False)\n",
    "\n",
    "# Combine datasets\n",
    "X_train = np.concatenate([X_train_speech, X_train_song], axis=0)\n",
    "y_train = np.concatenate([y_train_speech, y_train_song], axis=0)\n",
    "X_val = np.concatenate([X_val_speech, X_val_song], axis=0)\n",
    "y_val = np.concatenate([y_val_speech, y_val_song], axis=0)\n",
    "\n",
    "# Label encode + one-hot\n",
    "le = LabelEncoder()\n",
    "y_train_encoded = to_categorical(le.fit_transform(y_train))\n",
    "y_val_encoded = to_categorical(le.transform(y_val))\n",
    "\n",
    "# Save label encoder\n",
    "joblib.dump(le, os.path.join(gdrive_root, \"label_encoder.pkl\"))\n",
    "\n",
    "# Scale features\n",
    "print(\"Scaling features and saving scaler...\")\n",
    "scaler = StandardScaler()\n",
    "X_train_flat = X_train.reshape(-1, X_train.shape[-1])\n",
    "X_val_flat = X_val.reshape(-1, X_val.shape[-1])\n",
    "\n",
    "scaler.fit(X_train_flat)\n",
    "X_train_scaled = scaler.transform(X_train_flat).reshape(X_train.shape)\n",
    "X_val_scaled = scaler.transform(X_val_flat).reshape(X_val.shape)\n",
    "\n",
    "# Save scaler to Google Drive\n",
    "joblib.dump(scaler, os.path.join(gdrive_root, \"scaler.pkl\"))\n",
    "\n",
    "print(\" PHASE 1 COMPLETE\")\n",
    "print(f\" X_train shape: {X_train_scaled.shape}, y_train: {y_train_encoded.shape}\")\n",
    "print(f\" X_val shape: {X_val_scaled.shape}, y_val: {y_val_encoded.shape}\")\n",
    "print(f\" Scaler + label encoder saved to: {gdrive_root}\")\n"
   ]
  },
  {
   "cell_type": "code",
   "execution_count": 26,
   "metadata": {
    "colab": {
     "base_uri": "https://localhost:8080/",
     "height": 809
    },
    "executionInfo": {
     "elapsed": 1682,
     "status": "ok",
     "timestamp": 1750849291168,
     "user": {
      "displayName": "ADITYA PRATAP SINGH 24117006",
      "userId": "01863732675062424038"
     },
     "user_tz": -330
    },
    "id": "7aWvA39QiOmt",
    "outputId": "e5ab8db7-989e-498c-8bbf-550ca338731e"
   },
   "outputs": [
    {
     "data": {
      "text/html": [
       "<pre style=\"white-space:pre;overflow-x:auto;line-height:normal;font-family:Menlo,'DejaVu Sans Mono',consolas,'Courier New',monospace\"><span style=\"font-weight: bold\">Model: \"sequential\"</span>\n",
       "</pre>\n"
      ],
      "text/plain": [
       "\u001b[1mModel: \"sequential\"\u001b[0m\n"
      ]
     },
     "metadata": {},
     "output_type": "display_data"
    },
    {
     "data": {
      "text/html": [
       "<pre style=\"white-space:pre;overflow-x:auto;line-height:normal;font-family:Menlo,'DejaVu Sans Mono',consolas,'Courier New',monospace\">┏━━━━━━━━━━━━━━━━━━━━━━━━━━━━━━━━━┳━━━━━━━━━━━━━━━━━━━━━━━━┳━━━━━━━━━━━━━━━┓\n",
       "┃<span style=\"font-weight: bold\"> Layer (type)                    </span>┃<span style=\"font-weight: bold\"> Output Shape           </span>┃<span style=\"font-weight: bold\">       Param # </span>┃\n",
       "┡━━━━━━━━━━━━━━━━━━━━━━━━━━━━━━━━━╇━━━━━━━━━━━━━━━━━━━━━━━━╇━━━━━━━━━━━━━━━┩\n",
       "│ conv1d (<span style=\"color: #0087ff; text-decoration-color: #0087ff\">Conv1D</span>)                 │ (<span style=\"color: #00d7ff; text-decoration-color: #00d7ff\">None</span>, <span style=\"color: #00af00; text-decoration-color: #00af00\">171</span>, <span style=\"color: #00af00; text-decoration-color: #00af00\">64</span>)        │        <span style=\"color: #00af00; text-decoration-color: #00af00\">52,864</span> │\n",
       "├─────────────────────────────────┼────────────────────────┼───────────────┤\n",
       "│ batch_normalization             │ (<span style=\"color: #00d7ff; text-decoration-color: #00d7ff\">None</span>, <span style=\"color: #00af00; text-decoration-color: #00af00\">171</span>, <span style=\"color: #00af00; text-decoration-color: #00af00\">64</span>)        │           <span style=\"color: #00af00; text-decoration-color: #00af00\">256</span> │\n",
       "│ (<span style=\"color: #0087ff; text-decoration-color: #0087ff\">BatchNormalization</span>)            │                        │               │\n",
       "├─────────────────────────────────┼────────────────────────┼───────────────┤\n",
       "│ max_pooling1d (<span style=\"color: #0087ff; text-decoration-color: #0087ff\">MaxPooling1D</span>)    │ (<span style=\"color: #00d7ff; text-decoration-color: #00d7ff\">None</span>, <span style=\"color: #00af00; text-decoration-color: #00af00\">85</span>, <span style=\"color: #00af00; text-decoration-color: #00af00\">64</span>)         │             <span style=\"color: #00af00; text-decoration-color: #00af00\">0</span> │\n",
       "├─────────────────────────────────┼────────────────────────┼───────────────┤\n",
       "│ dropout (<span style=\"color: #0087ff; text-decoration-color: #0087ff\">Dropout</span>)               │ (<span style=\"color: #00d7ff; text-decoration-color: #00d7ff\">None</span>, <span style=\"color: #00af00; text-decoration-color: #00af00\">85</span>, <span style=\"color: #00af00; text-decoration-color: #00af00\">64</span>)         │             <span style=\"color: #00af00; text-decoration-color: #00af00\">0</span> │\n",
       "├─────────────────────────────────┼────────────────────────┼───────────────┤\n",
       "│ conv1d_1 (<span style=\"color: #0087ff; text-decoration-color: #0087ff\">Conv1D</span>)               │ (<span style=\"color: #00d7ff; text-decoration-color: #00d7ff\">None</span>, <span style=\"color: #00af00; text-decoration-color: #00af00\">83</span>, <span style=\"color: #00af00; text-decoration-color: #00af00\">128</span>)        │        <span style=\"color: #00af00; text-decoration-color: #00af00\">24,704</span> │\n",
       "├─────────────────────────────────┼────────────────────────┼───────────────┤\n",
       "│ batch_normalization_1           │ (<span style=\"color: #00d7ff; text-decoration-color: #00d7ff\">None</span>, <span style=\"color: #00af00; text-decoration-color: #00af00\">83</span>, <span style=\"color: #00af00; text-decoration-color: #00af00\">128</span>)        │           <span style=\"color: #00af00; text-decoration-color: #00af00\">512</span> │\n",
       "│ (<span style=\"color: #0087ff; text-decoration-color: #0087ff\">BatchNormalization</span>)            │                        │               │\n",
       "├─────────────────────────────────┼────────────────────────┼───────────────┤\n",
       "│ max_pooling1d_1 (<span style=\"color: #0087ff; text-decoration-color: #0087ff\">MaxPooling1D</span>)  │ (<span style=\"color: #00d7ff; text-decoration-color: #00d7ff\">None</span>, <span style=\"color: #00af00; text-decoration-color: #00af00\">41</span>, <span style=\"color: #00af00; text-decoration-color: #00af00\">128</span>)        │             <span style=\"color: #00af00; text-decoration-color: #00af00\">0</span> │\n",
       "├─────────────────────────────────┼────────────────────────┼───────────────┤\n",
       "│ dropout_1 (<span style=\"color: #0087ff; text-decoration-color: #0087ff\">Dropout</span>)             │ (<span style=\"color: #00d7ff; text-decoration-color: #00d7ff\">None</span>, <span style=\"color: #00af00; text-decoration-color: #00af00\">41</span>, <span style=\"color: #00af00; text-decoration-color: #00af00\">128</span>)        │             <span style=\"color: #00af00; text-decoration-color: #00af00\">0</span> │\n",
       "├─────────────────────────────────┼────────────────────────┼───────────────┤\n",
       "│ conv1d_2 (<span style=\"color: #0087ff; text-decoration-color: #0087ff\">Conv1D</span>)               │ (<span style=\"color: #00d7ff; text-decoration-color: #00d7ff\">None</span>, <span style=\"color: #00af00; text-decoration-color: #00af00\">39</span>, <span style=\"color: #00af00; text-decoration-color: #00af00\">128</span>)        │        <span style=\"color: #00af00; text-decoration-color: #00af00\">49,280</span> │\n",
       "├─────────────────────────────────┼────────────────────────┼───────────────┤\n",
       "│ batch_normalization_2           │ (<span style=\"color: #00d7ff; text-decoration-color: #00d7ff\">None</span>, <span style=\"color: #00af00; text-decoration-color: #00af00\">39</span>, <span style=\"color: #00af00; text-decoration-color: #00af00\">128</span>)        │           <span style=\"color: #00af00; text-decoration-color: #00af00\">512</span> │\n",
       "│ (<span style=\"color: #0087ff; text-decoration-color: #0087ff\">BatchNormalization</span>)            │                        │               │\n",
       "├─────────────────────────────────┼────────────────────────┼───────────────┤\n",
       "│ max_pooling1d_2 (<span style=\"color: #0087ff; text-decoration-color: #0087ff\">MaxPooling1D</span>)  │ (<span style=\"color: #00d7ff; text-decoration-color: #00d7ff\">None</span>, <span style=\"color: #00af00; text-decoration-color: #00af00\">19</span>, <span style=\"color: #00af00; text-decoration-color: #00af00\">128</span>)        │             <span style=\"color: #00af00; text-decoration-color: #00af00\">0</span> │\n",
       "├─────────────────────────────────┼────────────────────────┼───────────────┤\n",
       "│ dropout_2 (<span style=\"color: #0087ff; text-decoration-color: #0087ff\">Dropout</span>)             │ (<span style=\"color: #00d7ff; text-decoration-color: #00d7ff\">None</span>, <span style=\"color: #00af00; text-decoration-color: #00af00\">19</span>, <span style=\"color: #00af00; text-decoration-color: #00af00\">128</span>)        │             <span style=\"color: #00af00; text-decoration-color: #00af00\">0</span> │\n",
       "├─────────────────────────────────┼────────────────────────┼───────────────┤\n",
       "│ bidirectional (<span style=\"color: #0087ff; text-decoration-color: #0087ff\">Bidirectional</span>)   │ (<span style=\"color: #00d7ff; text-decoration-color: #00d7ff\">None</span>, <span style=\"color: #00af00; text-decoration-color: #00af00\">19</span>, <span style=\"color: #00af00; text-decoration-color: #00af00\">256</span>)        │       <span style=\"color: #00af00; text-decoration-color: #00af00\">263,168</span> │\n",
       "├─────────────────────────────────┼────────────────────────┼───────────────┤\n",
       "│ dropout_3 (<span style=\"color: #0087ff; text-decoration-color: #0087ff\">Dropout</span>)             │ (<span style=\"color: #00d7ff; text-decoration-color: #00d7ff\">None</span>, <span style=\"color: #00af00; text-decoration-color: #00af00\">19</span>, <span style=\"color: #00af00; text-decoration-color: #00af00\">256</span>)        │             <span style=\"color: #00af00; text-decoration-color: #00af00\">0</span> │\n",
       "├─────────────────────────────────┼────────────────────────┼───────────────┤\n",
       "│ bidirectional_1 (<span style=\"color: #0087ff; text-decoration-color: #0087ff\">Bidirectional</span>) │ (<span style=\"color: #00d7ff; text-decoration-color: #00d7ff\">None</span>, <span style=\"color: #00af00; text-decoration-color: #00af00\">128</span>)            │       <span style=\"color: #00af00; text-decoration-color: #00af00\">164,352</span> │\n",
       "├─────────────────────────────────┼────────────────────────┼───────────────┤\n",
       "│ dropout_4 (<span style=\"color: #0087ff; text-decoration-color: #0087ff\">Dropout</span>)             │ (<span style=\"color: #00d7ff; text-decoration-color: #00d7ff\">None</span>, <span style=\"color: #00af00; text-decoration-color: #00af00\">128</span>)            │             <span style=\"color: #00af00; text-decoration-color: #00af00\">0</span> │\n",
       "├─────────────────────────────────┼────────────────────────┼───────────────┤\n",
       "│ dense (<span style=\"color: #0087ff; text-decoration-color: #0087ff\">Dense</span>)                   │ (<span style=\"color: #00d7ff; text-decoration-color: #00d7ff\">None</span>, <span style=\"color: #00af00; text-decoration-color: #00af00\">128</span>)            │        <span style=\"color: #00af00; text-decoration-color: #00af00\">16,512</span> │\n",
       "├─────────────────────────────────┼────────────────────────┼───────────────┤\n",
       "│ dropout_5 (<span style=\"color: #0087ff; text-decoration-color: #0087ff\">Dropout</span>)             │ (<span style=\"color: #00d7ff; text-decoration-color: #00d7ff\">None</span>, <span style=\"color: #00af00; text-decoration-color: #00af00\">128</span>)            │             <span style=\"color: #00af00; text-decoration-color: #00af00\">0</span> │\n",
       "├─────────────────────────────────┼────────────────────────┼───────────────┤\n",
       "│ dense_1 (<span style=\"color: #0087ff; text-decoration-color: #0087ff\">Dense</span>)                 │ (<span style=\"color: #00d7ff; text-decoration-color: #00d7ff\">None</span>, <span style=\"color: #00af00; text-decoration-color: #00af00\">8</span>)              │         <span style=\"color: #00af00; text-decoration-color: #00af00\">1,032</span> │\n",
       "└─────────────────────────────────┴────────────────────────┴───────────────┘\n",
       "</pre>\n"
      ],
      "text/plain": [
       "┏━━━━━━━━━━━━━━━━━━━━━━━━━━━━━━━━━┳━━━━━━━━━━━━━━━━━━━━━━━━┳━━━━━━━━━━━━━━━┓\n",
       "┃\u001b[1m \u001b[0m\u001b[1mLayer (type)                   \u001b[0m\u001b[1m \u001b[0m┃\u001b[1m \u001b[0m\u001b[1mOutput Shape          \u001b[0m\u001b[1m \u001b[0m┃\u001b[1m \u001b[0m\u001b[1m      Param #\u001b[0m\u001b[1m \u001b[0m┃\n",
       "┡━━━━━━━━━━━━━━━━━━━━━━━━━━━━━━━━━╇━━━━━━━━━━━━━━━━━━━━━━━━╇━━━━━━━━━━━━━━━┩\n",
       "│ conv1d (\u001b[38;5;33mConv1D\u001b[0m)                 │ (\u001b[38;5;45mNone\u001b[0m, \u001b[38;5;34m171\u001b[0m, \u001b[38;5;34m64\u001b[0m)        │        \u001b[38;5;34m52,864\u001b[0m │\n",
       "├─────────────────────────────────┼────────────────────────┼───────────────┤\n",
       "│ batch_normalization             │ (\u001b[38;5;45mNone\u001b[0m, \u001b[38;5;34m171\u001b[0m, \u001b[38;5;34m64\u001b[0m)        │           \u001b[38;5;34m256\u001b[0m │\n",
       "│ (\u001b[38;5;33mBatchNormalization\u001b[0m)            │                        │               │\n",
       "├─────────────────────────────────┼────────────────────────┼───────────────┤\n",
       "│ max_pooling1d (\u001b[38;5;33mMaxPooling1D\u001b[0m)    │ (\u001b[38;5;45mNone\u001b[0m, \u001b[38;5;34m85\u001b[0m, \u001b[38;5;34m64\u001b[0m)         │             \u001b[38;5;34m0\u001b[0m │\n",
       "├─────────────────────────────────┼────────────────────────┼───────────────┤\n",
       "│ dropout (\u001b[38;5;33mDropout\u001b[0m)               │ (\u001b[38;5;45mNone\u001b[0m, \u001b[38;5;34m85\u001b[0m, \u001b[38;5;34m64\u001b[0m)         │             \u001b[38;5;34m0\u001b[0m │\n",
       "├─────────────────────────────────┼────────────────────────┼───────────────┤\n",
       "│ conv1d_1 (\u001b[38;5;33mConv1D\u001b[0m)               │ (\u001b[38;5;45mNone\u001b[0m, \u001b[38;5;34m83\u001b[0m, \u001b[38;5;34m128\u001b[0m)        │        \u001b[38;5;34m24,704\u001b[0m │\n",
       "├─────────────────────────────────┼────────────────────────┼───────────────┤\n",
       "│ batch_normalization_1           │ (\u001b[38;5;45mNone\u001b[0m, \u001b[38;5;34m83\u001b[0m, \u001b[38;5;34m128\u001b[0m)        │           \u001b[38;5;34m512\u001b[0m │\n",
       "│ (\u001b[38;5;33mBatchNormalization\u001b[0m)            │                        │               │\n",
       "├─────────────────────────────────┼────────────────────────┼───────────────┤\n",
       "│ max_pooling1d_1 (\u001b[38;5;33mMaxPooling1D\u001b[0m)  │ (\u001b[38;5;45mNone\u001b[0m, \u001b[38;5;34m41\u001b[0m, \u001b[38;5;34m128\u001b[0m)        │             \u001b[38;5;34m0\u001b[0m │\n",
       "├─────────────────────────────────┼────────────────────────┼───────────────┤\n",
       "│ dropout_1 (\u001b[38;5;33mDropout\u001b[0m)             │ (\u001b[38;5;45mNone\u001b[0m, \u001b[38;5;34m41\u001b[0m, \u001b[38;5;34m128\u001b[0m)        │             \u001b[38;5;34m0\u001b[0m │\n",
       "├─────────────────────────────────┼────────────────────────┼───────────────┤\n",
       "│ conv1d_2 (\u001b[38;5;33mConv1D\u001b[0m)               │ (\u001b[38;5;45mNone\u001b[0m, \u001b[38;5;34m39\u001b[0m, \u001b[38;5;34m128\u001b[0m)        │        \u001b[38;5;34m49,280\u001b[0m │\n",
       "├─────────────────────────────────┼────────────────────────┼───────────────┤\n",
       "│ batch_normalization_2           │ (\u001b[38;5;45mNone\u001b[0m, \u001b[38;5;34m39\u001b[0m, \u001b[38;5;34m128\u001b[0m)        │           \u001b[38;5;34m512\u001b[0m │\n",
       "│ (\u001b[38;5;33mBatchNormalization\u001b[0m)            │                        │               │\n",
       "├─────────────────────────────────┼────────────────────────┼───────────────┤\n",
       "│ max_pooling1d_2 (\u001b[38;5;33mMaxPooling1D\u001b[0m)  │ (\u001b[38;5;45mNone\u001b[0m, \u001b[38;5;34m19\u001b[0m, \u001b[38;5;34m128\u001b[0m)        │             \u001b[38;5;34m0\u001b[0m │\n",
       "├─────────────────────────────────┼────────────────────────┼───────────────┤\n",
       "│ dropout_2 (\u001b[38;5;33mDropout\u001b[0m)             │ (\u001b[38;5;45mNone\u001b[0m, \u001b[38;5;34m19\u001b[0m, \u001b[38;5;34m128\u001b[0m)        │             \u001b[38;5;34m0\u001b[0m │\n",
       "├─────────────────────────────────┼────────────────────────┼───────────────┤\n",
       "│ bidirectional (\u001b[38;5;33mBidirectional\u001b[0m)   │ (\u001b[38;5;45mNone\u001b[0m, \u001b[38;5;34m19\u001b[0m, \u001b[38;5;34m256\u001b[0m)        │       \u001b[38;5;34m263,168\u001b[0m │\n",
       "├─────────────────────────────────┼────────────────────────┼───────────────┤\n",
       "│ dropout_3 (\u001b[38;5;33mDropout\u001b[0m)             │ (\u001b[38;5;45mNone\u001b[0m, \u001b[38;5;34m19\u001b[0m, \u001b[38;5;34m256\u001b[0m)        │             \u001b[38;5;34m0\u001b[0m │\n",
       "├─────────────────────────────────┼────────────────────────┼───────────────┤\n",
       "│ bidirectional_1 (\u001b[38;5;33mBidirectional\u001b[0m) │ (\u001b[38;5;45mNone\u001b[0m, \u001b[38;5;34m128\u001b[0m)            │       \u001b[38;5;34m164,352\u001b[0m │\n",
       "├─────────────────────────────────┼────────────────────────┼───────────────┤\n",
       "│ dropout_4 (\u001b[38;5;33mDropout\u001b[0m)             │ (\u001b[38;5;45mNone\u001b[0m, \u001b[38;5;34m128\u001b[0m)            │             \u001b[38;5;34m0\u001b[0m │\n",
       "├─────────────────────────────────┼────────────────────────┼───────────────┤\n",
       "│ dense (\u001b[38;5;33mDense\u001b[0m)                   │ (\u001b[38;5;45mNone\u001b[0m, \u001b[38;5;34m128\u001b[0m)            │        \u001b[38;5;34m16,512\u001b[0m │\n",
       "├─────────────────────────────────┼────────────────────────┼───────────────┤\n",
       "│ dropout_5 (\u001b[38;5;33mDropout\u001b[0m)             │ (\u001b[38;5;45mNone\u001b[0m, \u001b[38;5;34m128\u001b[0m)            │             \u001b[38;5;34m0\u001b[0m │\n",
       "├─────────────────────────────────┼────────────────────────┼───────────────┤\n",
       "│ dense_1 (\u001b[38;5;33mDense\u001b[0m)                 │ (\u001b[38;5;45mNone\u001b[0m, \u001b[38;5;34m8\u001b[0m)              │         \u001b[38;5;34m1,032\u001b[0m │\n",
       "└─────────────────────────────────┴────────────────────────┴───────────────┘\n"
      ]
     },
     "metadata": {},
     "output_type": "display_data"
    },
    {
     "data": {
      "text/html": [
       "<pre style=\"white-space:pre;overflow-x:auto;line-height:normal;font-family:Menlo,'DejaVu Sans Mono',consolas,'Courier New',monospace\"><span style=\"font-weight: bold\"> Total params: </span><span style=\"color: #00af00; text-decoration-color: #00af00\">573,192</span> (2.19 MB)\n",
       "</pre>\n"
      ],
      "text/plain": [
       "\u001b[1m Total params: \u001b[0m\u001b[38;5;34m573,192\u001b[0m (2.19 MB)\n"
      ]
     },
     "metadata": {},
     "output_type": "display_data"
    },
    {
     "data": {
      "text/html": [
       "<pre style=\"white-space:pre;overflow-x:auto;line-height:normal;font-family:Menlo,'DejaVu Sans Mono',consolas,'Courier New',monospace\"><span style=\"font-weight: bold\"> Trainable params: </span><span style=\"color: #00af00; text-decoration-color: #00af00\">572,552</span> (2.18 MB)\n",
       "</pre>\n"
      ],
      "text/plain": [
       "\u001b[1m Trainable params: \u001b[0m\u001b[38;5;34m572,552\u001b[0m (2.18 MB)\n"
      ]
     },
     "metadata": {},
     "output_type": "display_data"
    },
    {
     "data": {
      "text/html": [
       "<pre style=\"white-space:pre;overflow-x:auto;line-height:normal;font-family:Menlo,'DejaVu Sans Mono',consolas,'Courier New',monospace\"><span style=\"font-weight: bold\"> Non-trainable params: </span><span style=\"color: #00af00; text-decoration-color: #00af00\">640</span> (2.50 KB)\n",
       "</pre>\n"
      ],
      "text/plain": [
       "\u001b[1m Non-trainable params: \u001b[0m\u001b[38;5;34m640\u001b[0m (2.50 KB)\n"
      ]
     },
     "metadata": {},
     "output_type": "display_data"
    }
   ],
   "source": [
    "import tensorflow as tf\n",
    "from tensorflow.keras.models import Sequential\n",
    "from tensorflow.keras.layers import (Conv1D, MaxPooling1D, Dropout, BatchNormalization,\n",
    "                                     Bidirectional, LSTM, Dense, Flatten)\n",
    "from tensorflow.keras.optimizers import Adam\n",
    "from tensorflow.keras.callbacks import EarlyStopping, ReduceLROnPlateau, ModelCheckpoint\n",
    "\n",
    "# ------------------------------\n",
    "# 🧠 Define Model Architecture\n",
    "# ------------------------------\n",
    "def build_cnn_bilstm_model(input_shape, num_classes):\n",
    "    model = Sequential()\n",
    "\n",
    "    # CNN layers\n",
    "    model.add(Conv1D(64, kernel_size=3, activation='relu', input_shape=input_shape))\n",
    "    model.add(BatchNormalization())\n",
    "    model.add(MaxPooling1D(pool_size=2))\n",
    "    model.add(Dropout(0.3))\n",
    "\n",
    "    model.add(Conv1D(128, kernel_size=3, activation='relu'))\n",
    "    model.add(BatchNormalization())\n",
    "    model.add(MaxPooling1D(pool_size=2))\n",
    "    model.add(Dropout(0.3))\n",
    "\n",
    "    model.add(Conv1D(128, kernel_size=3, activation='relu'))\n",
    "    model.add(BatchNormalization())\n",
    "    model.add(MaxPooling1D(pool_size=2))\n",
    "    model.add(Dropout(0.3))\n",
    "\n",
    "    # BiLSTM layers\n",
    "    model.add(Bidirectional(LSTM(128, return_sequences=True)))\n",
    "    model.add(Dropout(0.3))\n",
    "    model.add(Bidirectional(LSTM(64)))\n",
    "    model.add(Dropout(0.3))\n",
    "\n",
    "    # MLP\n",
    "    model.add(Dense(128, activation='relu'))\n",
    "    model.add(Dropout(0.3))\n",
    "    model.add(Dense(num_classes, activation='softmax'))\n",
    "\n",
    "    return model\n",
    "\n",
    "# ------------------------------\n",
    "# ✅ Prepare Inputs\n",
    "# ------------------------------\n",
    "input_shape = X_train_scaled.shape[1:]   # (173, ~110)\n",
    "num_classes = y_train_encoded.shape[1]   # usually 8 for RAVDESS\n",
    "\n",
    "# ------------------------------\n",
    "# 🚀 Build & Compile Model\n",
    "# ------------------------------\n",
    "model = build_cnn_bilstm_model(input_shape, num_classes)\n",
    "\n",
    "optimizer = Adam(learning_rate=1e-3, clipnorm=1.0)  # Gradient clipping\n",
    "model.compile(\n",
    "    optimizer=optimizer,\n",
    "    loss=tf.keras.losses.CategoricalCrossentropy(label_smoothing=0.1),\n",
    "    metrics=['accuracy']\n",
    ")\n",
    "\n",
    "model.summary()\n"
   ]
  },
  {
   "cell_type": "code",
   "execution_count": 27,
   "metadata": {
    "executionInfo": {
     "elapsed": 29,
     "status": "ok",
     "timestamp": 1750849313511,
     "user": {
      "displayName": "ADITYA PRATAP SINGH 24117006",
      "userId": "01863732675062424038"
     },
     "user_tz": -330
    },
    "id": "CsADFi9cwEf5"
   },
   "outputs": [],
   "source": [
    "# Save model to Google Drive\n",
    "checkpoint_path = \"/content/drive/MyDrive/EmotionRecognitionAssets/best_model.h5\"\n",
    "\n",
    "callbacks = [\n",
    "    ModelCheckpoint(checkpoint_path, monitor='val_accuracy', save_best_only=True, verbose=1),\n",
    "    EarlyStopping(monitor='val_accuracy', patience=8, restore_best_weights=True),\n",
    "    ReduceLROnPlateau(monitor='val_loss', factor=0.5, patience=4, verbose=1)\n",
    "]\n"
   ]
  },
  {
   "cell_type": "code",
   "execution_count": 29,
   "metadata": {
    "colab": {
     "base_uri": "https://localhost:8080/"
    },
    "executionInfo": {
     "elapsed": 599584,
     "status": "ok",
     "timestamp": 1750851121905,
     "user": {
      "displayName": "ADITYA PRATAP SINGH 24117006",
      "userId": "01863732675062424038"
     },
     "user_tz": -330
    },
    "id": "EloaBc25wEdA",
    "outputId": "8a4611f8-3ca2-40c5-df9d-9751c395f93c"
   },
   "outputs": [
    {
     "name": "stdout",
     "output_type": "stream",
     "text": [
      "Epoch 1/50\n",
      "\u001b[1m121/121\u001b[0m \u001b[32m━━━━━━━━━━━━━━━━━━━━\u001b[0m\u001b[37m\u001b[0m \u001b[1m0s\u001b[0m 256ms/step - accuracy: 0.9679 - loss: 0.5738\n",
      "Epoch 1: val_accuracy did not improve from 0.83610\n",
      "\u001b[1m121/121\u001b[0m \u001b[32m━━━━━━━━━━━━━━━━━━━━\u001b[0m\u001b[37m\u001b[0m \u001b[1m35s\u001b[0m 291ms/step - accuracy: 0.9679 - loss: 0.5738 - val_accuracy: 0.8174 - val_loss: 0.8947 - learning_rate: 6.2500e-05\n",
      "Epoch 2/50\n",
      "\u001b[1m121/121\u001b[0m \u001b[32m━━━━━━━━━━━━━━━━━━━━\u001b[0m\u001b[37m\u001b[0m \u001b[1m0s\u001b[0m 228ms/step - accuracy: 0.9736 - loss: 0.5607\n",
      "Epoch 2: val_accuracy did not improve from 0.83610\n",
      "\u001b[1m121/121\u001b[0m \u001b[32m━━━━━━━━━━━━━━━━━━━━\u001b[0m\u001b[37m\u001b[0m \u001b[1m34s\u001b[0m 236ms/step - accuracy: 0.9736 - loss: 0.5607 - val_accuracy: 0.8237 - val_loss: 0.8909 - learning_rate: 6.2500e-05\n",
      "Epoch 3/50\n",
      "\u001b[1m121/121\u001b[0m \u001b[32m━━━━━━━━━━━━━━━━━━━━\u001b[0m\u001b[37m\u001b[0m \u001b[1m0s\u001b[0m 241ms/step - accuracy: 0.9746 - loss: 0.5613\n",
      "Epoch 3: val_accuracy did not improve from 0.83610\n",
      "\u001b[1m121/121\u001b[0m \u001b[32m━━━━━━━━━━━━━━━━━━━━\u001b[0m\u001b[37m\u001b[0m \u001b[1m31s\u001b[0m 253ms/step - accuracy: 0.9746 - loss: 0.5613 - val_accuracy: 0.8154 - val_loss: 0.9011 - learning_rate: 6.2500e-05\n",
      "Epoch 4/50\n",
      "\u001b[1m121/121\u001b[0m \u001b[32m━━━━━━━━━━━━━━━━━━━━\u001b[0m\u001b[37m\u001b[0m \u001b[1m0s\u001b[0m 214ms/step - accuracy: 0.9775 - loss: 0.5556\n",
      "Epoch 4: val_accuracy did not improve from 0.83610\n",
      "\u001b[1m121/121\u001b[0m \u001b[32m━━━━━━━━━━━━━━━━━━━━\u001b[0m\u001b[37m\u001b[0m \u001b[1m38s\u001b[0m 225ms/step - accuracy: 0.9776 - loss: 0.5556 - val_accuracy: 0.8154 - val_loss: 0.9035 - learning_rate: 6.2500e-05\n",
      "Epoch 5/50\n",
      "\u001b[1m121/121\u001b[0m \u001b[32m━━━━━━━━━━━━━━━━━━━━\u001b[0m\u001b[37m\u001b[0m \u001b[1m0s\u001b[0m 215ms/step - accuracy: 0.9755 - loss: 0.5587\n",
      "Epoch 5: val_accuracy did not improve from 0.83610\n",
      "\u001b[1m121/121\u001b[0m \u001b[32m━━━━━━━━━━━━━━━━━━━━\u001b[0m\u001b[37m\u001b[0m \u001b[1m41s\u001b[0m 222ms/step - accuracy: 0.9755 - loss: 0.5587 - val_accuracy: 0.8133 - val_loss: 0.8921 - learning_rate: 6.2500e-05\n",
      "Epoch 6/50\n",
      "\u001b[1m121/121\u001b[0m \u001b[32m━━━━━━━━━━━━━━━━━━━━\u001b[0m\u001b[37m\u001b[0m \u001b[1m0s\u001b[0m 208ms/step - accuracy: 0.9842 - loss: 0.5446\n",
      "Epoch 6: val_accuracy did not improve from 0.83610\n",
      "\n",
      "Epoch 6: ReduceLROnPlateau reducing learning rate to 3.125000148429535e-05.\n",
      "\u001b[1m121/121\u001b[0m \u001b[32m━━━━━━━━━━━━━━━━━━━━\u001b[0m\u001b[37m\u001b[0m \u001b[1m41s\u001b[0m 219ms/step - accuracy: 0.9842 - loss: 0.5446 - val_accuracy: 0.8195 - val_loss: 0.9001 - learning_rate: 6.2500e-05\n",
      "Epoch 7/50\n",
      "\u001b[1m121/121\u001b[0m \u001b[32m━━━━━━━━━━━━━━━━━━━━\u001b[0m\u001b[37m\u001b[0m \u001b[1m0s\u001b[0m 202ms/step - accuracy: 0.9814 - loss: 0.5491\n",
      "Epoch 7: val_accuracy did not improve from 0.83610\n",
      "\u001b[1m121/121\u001b[0m \u001b[32m━━━━━━━━━━━━━━━━━━━━\u001b[0m\u001b[37m\u001b[0m \u001b[1m40s\u001b[0m 213ms/step - accuracy: 0.9814 - loss: 0.5492 - val_accuracy: 0.8216 - val_loss: 0.8892 - learning_rate: 3.1250e-05\n",
      "Epoch 8/50\n",
      "\u001b[1m121/121\u001b[0m \u001b[32m━━━━━━━━━━━━━━━━━━━━\u001b[0m\u001b[37m\u001b[0m \u001b[1m0s\u001b[0m 193ms/step - accuracy: 0.9787 - loss: 0.5521\n",
      "Epoch 8: val_accuracy did not improve from 0.83610\n",
      "\u001b[1m121/121\u001b[0m \u001b[32m━━━━━━━━━━━━━━━━━━━━\u001b[0m\u001b[37m\u001b[0m \u001b[1m40s\u001b[0m 204ms/step - accuracy: 0.9787 - loss: 0.5521 - val_accuracy: 0.8278 - val_loss: 0.8971 - learning_rate: 3.1250e-05\n",
      "Epoch 9/50\n",
      "\u001b[1m121/121\u001b[0m \u001b[32m━━━━━━━━━━━━━━━━━━━━\u001b[0m\u001b[37m\u001b[0m \u001b[1m0s\u001b[0m 186ms/step - accuracy: 0.9841 - loss: 0.5464\n",
      "Epoch 9: val_accuracy did not improve from 0.83610\n",
      "\u001b[1m121/121\u001b[0m \u001b[32m━━━━━━━━━━━━━━━━━━━━\u001b[0m\u001b[37m\u001b[0m \u001b[1m40s\u001b[0m 197ms/step - accuracy: 0.9841 - loss: 0.5464 - val_accuracy: 0.8278 - val_loss: 0.8911 - learning_rate: 3.1250e-05\n",
      "Epoch 10/50\n",
      "\u001b[1m121/121\u001b[0m \u001b[32m━━━━━━━━━━━━━━━━━━━━\u001b[0m\u001b[37m\u001b[0m \u001b[1m0s\u001b[0m 201ms/step - accuracy: 0.9816 - loss: 0.5494\n",
      "Epoch 10: val_accuracy did not improve from 0.83610\n",
      "\u001b[1m121/121\u001b[0m \u001b[32m━━━━━━━━━━━━━━━━━━━━\u001b[0m\u001b[37m\u001b[0m \u001b[1m42s\u001b[0m 207ms/step - accuracy: 0.9816 - loss: 0.5494 - val_accuracy: 0.8237 - val_loss: 0.8968 - learning_rate: 3.1250e-05\n",
      "Epoch 11/50\n",
      "\u001b[1m121/121\u001b[0m \u001b[32m━━━━━━━━━━━━━━━━━━━━\u001b[0m\u001b[37m\u001b[0m \u001b[1m0s\u001b[0m 189ms/step - accuracy: 0.9813 - loss: 0.5520\n",
      "Epoch 11: val_accuracy did not improve from 0.83610\n",
      "\n",
      "Epoch 11: ReduceLROnPlateau reducing learning rate to 1.5625000742147677e-05.\n",
      "\u001b[1m121/121\u001b[0m \u001b[32m━━━━━━━━━━━━━━━━━━━━\u001b[0m\u001b[37m\u001b[0m \u001b[1m24s\u001b[0m 200ms/step - accuracy: 0.9813 - loss: 0.5520 - val_accuracy: 0.8237 - val_loss: 0.8952 - learning_rate: 3.1250e-05\n",
      "Epoch 12/50\n",
      "\u001b[1m121/121\u001b[0m \u001b[32m━━━━━━━━━━━━━━━━━━━━\u001b[0m\u001b[37m\u001b[0m \u001b[1m0s\u001b[0m 278ms/step - accuracy: 0.9825 - loss: 0.5436\n",
      "Epoch 12: val_accuracy did not improve from 0.83610\n",
      "\u001b[1m121/121\u001b[0m \u001b[32m━━━━━━━━━━━━━━━━━━━━\u001b[0m\u001b[37m\u001b[0m \u001b[1m52s\u001b[0m 289ms/step - accuracy: 0.9825 - loss: 0.5436 - val_accuracy: 0.8237 - val_loss: 0.8956 - learning_rate: 1.5625e-05\n",
      "Epoch 13/50\n",
      "\u001b[1m121/121\u001b[0m \u001b[32m━━━━━━━━━━━━━━━━━━━━\u001b[0m\u001b[37m\u001b[0m \u001b[1m0s\u001b[0m 184ms/step - accuracy: 0.9786 - loss: 0.5526\n",
      "Epoch 13: val_accuracy did not improve from 0.83610\n",
      "\u001b[1m121/121\u001b[0m \u001b[32m━━━━━━━━━━━━━━━━━━━━\u001b[0m\u001b[37m\u001b[0m \u001b[1m30s\u001b[0m 195ms/step - accuracy: 0.9786 - loss: 0.5525 - val_accuracy: 0.8257 - val_loss: 0.8933 - learning_rate: 1.5625e-05\n",
      "Epoch 14/50\n",
      "\u001b[1m121/121\u001b[0m \u001b[32m━━━━━━━━━━━━━━━━━━━━\u001b[0m\u001b[37m\u001b[0m \u001b[1m0s\u001b[0m 196ms/step - accuracy: 0.9828 - loss: 0.5452\n",
      "Epoch 14: val_accuracy did not improve from 0.83610\n",
      "\u001b[1m121/121\u001b[0m \u001b[32m━━━━━━━━━━━━━━━━━━━━\u001b[0m\u001b[37m\u001b[0m \u001b[1m44s\u001b[0m 218ms/step - accuracy: 0.9828 - loss: 0.5452 - val_accuracy: 0.8216 - val_loss: 0.8900 - learning_rate: 1.5625e-05\n",
      "Epoch 15/50\n",
      "\u001b[1m121/121\u001b[0m \u001b[32m━━━━━━━━━━━━━━━━━━━━\u001b[0m\u001b[37m\u001b[0m \u001b[1m0s\u001b[0m 192ms/step - accuracy: 0.9858 - loss: 0.5414\n",
      "Epoch 15: val_accuracy did not improve from 0.83610\n",
      "\n",
      "Epoch 15: ReduceLROnPlateau reducing learning rate to 7.812500371073838e-06.\n",
      "\u001b[1m121/121\u001b[0m \u001b[32m━━━━━━━━━━━━━━━━━━━━\u001b[0m\u001b[37m\u001b[0m \u001b[1m25s\u001b[0m 203ms/step - accuracy: 0.9858 - loss: 0.5414 - val_accuracy: 0.8216 - val_loss: 0.8956 - learning_rate: 1.5625e-05\n",
      "Epoch 16/50\n",
      "\u001b[1m121/121\u001b[0m \u001b[32m━━━━━━━━━━━━━━━━━━━━\u001b[0m\u001b[37m\u001b[0m \u001b[1m0s\u001b[0m 185ms/step - accuracy: 0.9821 - loss: 0.5430\n",
      "Epoch 16: val_accuracy did not improve from 0.83610\n",
      "\u001b[1m121/121\u001b[0m \u001b[32m━━━━━━━━━━━━━━━━━━━━\u001b[0m\u001b[37m\u001b[0m \u001b[1m39s\u001b[0m 191ms/step - accuracy: 0.9821 - loss: 0.5430 - val_accuracy: 0.8216 - val_loss: 0.8969 - learning_rate: 7.8125e-06\n"
     ]
    }
   ],
   "source": [
    "history = model.fit(\n",
    "    X_train_scaled, y_train_encoded,\n",
    "    validation_data=(X_val_scaled, y_val_encoded),\n",
    "    epochs=50,\n",
    "    batch_size=32,\n",
    "    callbacks=callbacks\n",
    ")"
   ]
  },
  {
   "cell_type": "code",
   "execution_count": null,
   "metadata": {
    "colab": {
     "base_uri": "https://localhost:8080/",
     "height": 1000
    },
    "executionInfo": {
     "elapsed": 8347,
     "status": "ok",
     "timestamp": 1750851149495,
     "user": {
      "displayName": "ADITYA PRATAP SINGH 24117006",
      "userId": "01863732675062424038"
     },
     "user_tz": -330
    },
    "id": "-iMHIs8JwEas",
    "outputId": "8f3ae870-3ba8-480d-b53c-783503ef8b70"
   },
   "outputs": [
    {
     "name": "stderr",
     "output_type": "stream",
     "text": [
      "WARNING:absl:Compiled the loaded model, but the compiled metrics have yet to be built. `model.compile_metrics` will be empty until you train or evaluate the model.\n"
     ]
    },
    {
     "name": "stdout",
     "output_type": "stream",
     "text": [
      "\u001b[1m16/16\u001b[0m \u001b[32m━━━━━━━━━━━━━━━━━━━━\u001b[0m\u001b[37m\u001b[0m \u001b[1m2s\u001b[0m 100ms/step\n",
      "✅ Overall Accuracy: 83.61%\n",
      "✅ Macro F1 Score: 83.73%\n",
      "📋 Classification Report:\n",
      "               precision    recall  f1-score   support\n",
      "\n",
      "       angry     0.9853    0.8933    0.9371        75\n",
      "        calm     0.8684    0.8919    0.8800        74\n",
      "     disgust     0.9143    0.8649    0.8889        37\n",
      "     fearful     0.7326    0.8514    0.7875        74\n",
      "       happy     0.8472    0.8243    0.8356        74\n",
      "     neutral     0.6977    0.8108    0.7500        37\n",
      "         sad     0.7794    0.7162    0.7465        74\n",
      "   surprised     0.9118    0.8378    0.8732        37\n",
      "\n",
      "    accuracy                         0.8361       482\n",
      "   macro avg     0.8421    0.8363    0.8373       482\n",
      "weighted avg     0.8426    0.8361    0.8375       482\n",
      "\n"
     ]
    },
    {
     "data": {
      "image/png": "[encoded data removed]",
      "text/plain": [
       "<Figure size 1000x800 with 2 Axes>"
      ]
     },
     "metadata": {},
     "output_type": "display_data"
    }
   ],
   "source": [
    "import matplotlib.pyplot as plt\n",
    "import seaborn as sns\n",
    "from sklearn.metrics import classification_report, confusion_matrix, f1_score, accuracy_score\n",
    "\n",
    "# ------------------------------\n",
    "# 📥 Load Model & LabelEncoder\n",
    "# ------------------------------\n",
    "from tensorflow.keras.models import load_model\n",
    "\n",
    "model = load_model(\"/content/drive/MyDrive/EmotionRecognitionAssets/best_model.h5\")\n",
    "label_encoder = joblib.load(\"/content/drive/MyDrive/EmotionRecognitionAssets/label_encoder.pkl\")\n",
    "\n",
    "# ------------------------------\n",
    "# 🔮 Predict on Validation Set\n",
    "# ------------------------------\n",
    "y_pred_probs = model.predict(X_val_scaled)\n",
    "y_pred = np.argmax(y_pred_probs, axis=1)\n",
    "y_true = np.argmax(y_val_encoded, axis=1)\n",
    "\n",
    "# ------------------------------\n",
    "# ✅ Accuracy & F1 Score\n",
    "# ------------------------------\n",
    "overall_accuracy = accuracy_score(y_true, y_pred)\n",
    "macro_f1 = f1_score(y_true, y_pred, average='macro')\n",
    "\n",
    "print(f\" Overall Accuracy: {overall_accuracy * 100:.2f}%\")\n",
    "print(f\" Macro F1 Score: {macro_f1 * 100:.2f}%\")\n",
    "\n",
    "# ------------------------------\n",
    "# 📊 Class-wise Accuracy\n",
    "# ------------------------------\n",
    "class_report = classification_report(\n",
    "    y_true, y_pred,\n",
    "    target_names=label_encoder.classes_,\n",
    "    digits=4,\n",
    "    zero_division=0\n",
    ")\n",
    "print(\"📋 Classification Report:\\n\", class_report)\n",
    "\n",
    "# ------------------------------\n",
    "# 📉 Confusion Matrix\n",
    "# ------------------------------\n",
    "cm = confusion_matrix(y_true, y_pred)\n",
    "plt.figure(figsize=(10, 8))\n",
    "sns.heatmap(cm, annot=True, fmt=\"d\", xticklabels=label_encoder.classes_,\n",
    "            yticklabels=label_encoder.classes_, cmap=\"Blues\")\n",
    "plt.xlabel(\"Predicted\")\n",
    "plt.ylabel(\"True\")\n",
    "plt.title(\"Confusion Matrix\")\n",
    "plt.show()\n"
   ]
  },
  {
   "cell_type": "code",
   "execution_count": null,
   "metadata": {
    "colab": {
     "base_uri": "https://localhost:8080/"
    },
    "executionInfo": {
     "elapsed": 17,
     "status": "ok",
     "timestamp": 1750851713258,
     "user": {
      "displayName": "ADITYA PRATAP SINGH 24117006",
      "userId": "01863732675062424038"
     },
     "user_tz": -330
    },
    "id": "8L2aVhdh5Ozl",
    "outputId": "d304faa5-ff1b-4b0a-ff7d-ee844e4f4ace"
   },
   "outputs": [
    {
     "name": "stdout",
     "output_type": "stream",
     "text": [
      "🎯 Class-wise Accuracy:\n",
      "angry      : 89.33%\n",
      "calm       : 89.19%\n",
      "disgust    : 86.49%\n",
      "fearful    : 85.14%\n",
      "happy      : 82.43%\n",
      "neutral    : 81.08%\n",
      "sad        : 71.62%\n",
      "surprised  : 83.78%\n"
     ]
    }
   ],
   "source": [
    "import numpy as np\n",
    "from sklearn.metrics import accuracy_score\n",
    "\n",
    "# Get label names\n",
    "class_names = label_encoder.classes_\n",
    "\n",
    "# Initialize storage\n",
    "class_accuracies = {}\n",
    "\n",
    "# Loop through each class\n",
    "for i, class_name in enumerate(class_names):\n",
    "    # Get indices of samples for that class\n",
    "    idx = np.where(y_true == i)[0]\n",
    "\n",
    "    # Get corresponding predictions\n",
    "    correct = np.sum(y_pred[idx] == y_true[idx])\n",
    "    total = len(idx)\n",
    "\n",
    "    accuracy = correct / total if total > 0 else 0\n",
    "    class_accuracies[class_name] = accuracy * 100\n",
    "\n",
    "# Print nicely\n",
    "print(\" Class-wise Accuracy:\")\n",
    "for label, acc in class_accuracies.items():\n",
    "    print(f\"{label:10s} : {acc:.2f}%\")\n"
   ]
  },
  {
   "cell_type": "code",
   "execution_count": null,
   "metadata": {},
   "outputs": [],
   "source": []
  }
 ],
 "metadata": {
  "colab": {
   "authorship_tag": "ABX9TyMd/HTpbgxNGwSFFYNUscvG",
   "provenance": []
  },
  "kernelspec": {
   "display_name": "Python 3",
   "name": "python3"
  },
  "language_info": {
   "name": "python"
  }
 },
 "nbformat": 4,
 "nbformat_minor": 0
}
